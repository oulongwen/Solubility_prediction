{
 "cells": [
  {
   "cell_type": "code",
   "execution_count": 1,
   "metadata": {
    "collapsed": true
   },
   "outputs": [],
   "source": [
    "import pandas as pd\n",
    "import numpy as np\n",
    "import matplotlib.pyplot as plt\n",
    "import seaborn as sns\n",
    "from glob import glob\n",
    "from sklearn.ensemble import RandomForestRegressor, AdaBoostRegressor, GradientBoostingRegressor\n",
    "from sklearn.model_selection import train_test_split, GridSearchCV, KFold, cross_val_score\n",
    "from sklearn.tree import DecisionTreeRegressor\n",
    "from sklearn.preprocessing import StandardScaler\n",
    "from sklearn.feature_selection import VarianceThreshold\n",
    "from xgboost import XGBRegressor\n",
    "from sklearn.pipeline import Pipeline\n",
    "from sklearn.linear_model import RidgeCV, LassoCV\n",
    "from sklearn.metrics import mean_squared_error, mean_absolute_error\n",
    "from lightgbm import LGBMRegressor\n",
    "from pyGPGO.surrogates.GaussianProcess import GaussianProcess\n",
    "from pyGPGO.covfunc import squaredExponential\n",
    "from pyGPGO.acquisition import Acquisition\n",
    "from pyGPGO.GPGO import GPGO\n",
    "from rdkit import Chem\n",
    "import csv\n",
    "import itertools as it\n",
    "import numpy as np\n",
    "import networkx as nx\n",
    "\n",
    "import logging\n",
    "logger = logging.getLogger()\n",
    "logger.disabled = True\n",
    "\n",
    "%matplotlib inline"
   ]
  },
  {
   "cell_type": "markdown",
   "metadata": {},
   "source": [
    "Extract molecular fingerprints from molecular structures. The code is taken from [here](https://github.com/neltnerb/machine-learning/blob/master/solubility/solubility_estimator.py)."
   ]
  },
  {
   "cell_type": "code",
   "execution_count": 2,
   "metadata": {
    "collapsed": true
   },
   "outputs": [],
   "source": [
    "# First I need to import the raw data from the csv file.\n",
    "#\n",
    "# Note, I modified the original solubility.txt file to manually replace\n",
    "# commas in compound names with semicolons so that the extractor doesn't\n",
    "# confuse them for delimiters. I simultaneously parse the SMILES string\n",
    "# into a rdkit molecule object for easier feature extraction.\n",
    "\n",
    "y_data = []\n",
    "SMILES_data = []\n",
    "mol_data = []\n",
    "\n",
    "# atom_data will contain a list of example molecules, with each member\n",
    "# list indexed by the atom index and then with a number representing\n",
    "# the atomic number of that atom.\n",
    "\n",
    "# ifile = open('solubility.txt', \"r\")\n",
    "ifile = open('solubility.csv', 'r')\n",
    "reader = csv.reader(ifile, delimiter=',')\n",
    "\n",
    "# This is the best way I could find to skip the first iterator. The\n",
    "# method using islice requires that you know how many elements are in\n",
    "# the iterator, which is definitely more complex than just using a\n",
    "# flag.\n",
    "\n",
    "isheader = True\n",
    "maxAtoms = 0\n",
    "\n",
    "for row in reader:\n",
    "    if isheader:\n",
    "        isheader = False\n",
    "    else:\n",
    "        y_data.append(float(row[1]))\n",
    "        SMILES_data.append(row[3])\n",
    "        molecule = Chem.MolFromSmiles(row[3])\n",
    "        numAtoms = molecule.GetNumAtoms()\n",
    "        if numAtoms > maxAtoms:\n",
    "            maxAtoms = numAtoms\n",
    "        mol_data.append(molecule)\n",
    "        \n",
    "# Manually set maxAtoms to help get the TensorFlow code right.\n",
    "maxAtoms = 60\n",
    "        \n",
    "# Create numpy array for atom descriptors. Size is [n, i, m] where n\n",
    "# is the number of examples, i is the max number of atoms in a molecule\n",
    "# seen while parsing the data, and m is 11 to represent H, C, N, O, F,\n",
    "# P, S, Cl, Br, I, or metal.\n",
    "\n",
    "atom_data = np.zeros((len(mol_data), maxAtoms, 11), dtype = float)\n",
    "\n",
    "# Create numpy array for bond descriptors. Size is [n, i, i, m] where n\n",
    "# is the number of examples, i is the max number of atoms in a molecule,\n",
    "# and m is 4 to represent single, double, triple, and aromatic bonds.\n",
    "\n",
    "bond_data = np.zeros((len(mol_data), maxAtoms, maxAtoms, 4), dtype = float)\n",
    "\n",
    "# Create numpy array for graph distance. Size is [n, i, i, 7] where n\n",
    "# is the number of examples, i is the max number of atoms in a molecule,\n",
    "# and m is 7 where the boolean array contains True if the distance from\n",
    "# the first atom to the second is less than the bin index. So,\n",
    "# [0, 0, 1, 3] means whether in training example 0, atoms 0 and 1 are\n",
    "# closer than 3 bonds away at the shortest distance. These will be\n",
    "# calculated by building an adjacency matrix from the bond_data array\n",
    "# and using networkx to convert that to a graph representation which\n",
    "# is easier to extract the shortest path lengths from.\n",
    "\n",
    "example_index = 0\n",
    "distance_data = np.zeros((len(mol_data), maxAtoms, maxAtoms, 7), dtype = float)\n",
    "graph_data = []\n",
    "\n",
    "for molecule in mol_data:\n",
    "    for atom in molecule.GetAtoms():\n",
    "        atomicNum = atom.GetAtomicNum()\n",
    "        if atomicNum == 1:\n",
    "            atom_data[example_index,atom.GetIdx(),0] = 1\n",
    "        elif atomicNum == 6:\n",
    "            atom_data[example_index,atom.GetIdx(),1] = 1\n",
    "        elif atomicNum == 7:\n",
    "            atom_data[example_index,atom.GetIdx(),2] = 1\n",
    "        elif atomicNum == 8:\n",
    "            atom_data[example_index,atom.GetIdx(),3] = 1\n",
    "        elif atomicNum == 9:\n",
    "            atom_data[example_index,atom.GetIdx(),4] = 1\n",
    "        elif atomicNum == 15:\n",
    "            atom_data[example_index,atom.GetIdx(),5] = 1\n",
    "        elif atomicNum == 16:\n",
    "            atom_data[example_index,atom.GetIdx(),6] = 1\n",
    "        elif atomicNum == 17:\n",
    "            atom_data[example_index,atom.GetIdx(),7] = 1\n",
    "        elif atomicNum == 35:\n",
    "            atom_data[example_index,atom.GetIdx(),8] = 1\n",
    "        elif atomicNum == 53:\n",
    "            atom_data[example_index,atom.GetIdx(),9] = 1\n",
    "        else:\n",
    "            atom_data[example_index,atom.GetIdx(),10] = 1\n",
    "    adjacency = np.zeros((molecule.GetNumAtoms(), molecule.GetNumAtoms()), dtype = int)\n",
    "    for bond in molecule.GetBonds():\n",
    "        atom1 = bond.GetBeginAtomIdx()\n",
    "        atom2 = bond.GetEndAtomIdx()\n",
    "        bondtype = bond.GetBondTypeAsDouble()\n",
    "        if bondtype == 1:\n",
    "            bond_data[example_index,atom1,atom2,0] = 1\n",
    "            bond_data[example_index,atom2,atom1,0] = 1\n",
    "        elif bondtype == 1.5:\n",
    "            bond_data[example_index,atom1,atom2,3] = 1\n",
    "            bond_data[example_index,atom2,atom1,3] = 1\n",
    "        elif bondtype == 2:\n",
    "            bond_data[example_index,atom1,atom2,1] = 1\n",
    "            bond_data[example_index,atom2,atom1,1] = 1\n",
    "        elif bondtype == 3:\n",
    "            bond_data[example_index,atom1,atom2,2] = 1\n",
    "            bond_data[example_index,atom2,atom1,2] = 1\n",
    "    for atom1 in range(0, molecule.GetNumAtoms()):\n",
    "        for atom2 in range(atom1+1, molecule.GetNumAtoms()):\n",
    "            if any(bond_data[example_index,atom1,atom2]):\n",
    "                adjacency[atom1,atom2] = 1\n",
    "                adjacency[atom2,atom1] = 1\n",
    "    graph = nx.from_numpy_matrix(adjacency)\n",
    "    graph_data.append(graph)\n",
    "    for atom1 in range(0, molecule.GetNumAtoms()):\n",
    "        lengths = nx.single_source_shortest_path_length(graph, atom1)\n",
    "        for atom2 in range(atom1, molecule.GetNumAtoms()):\n",
    "            distance = lengths[atom2]\n",
    "            for threshold in range(0,7):\n",
    "                if distance <= threshold:\n",
    "                    distance_data[example_index,atom1,atom2,threshold] = 1\n",
    "                    distance_data[example_index,atom2,atom1,threshold] = 1\n",
    "    example_index += 1"
   ]
  },
  {
   "cell_type": "markdown",
   "metadata": {},
   "source": [
    "## Prepare training, validation and test dataset"
   ]
  },
  {
   "cell_type": "code",
   "execution_count": 4,
   "metadata": {
    "collapsed": true
   },
   "outputs": [],
   "source": [
    "atom = atom_data.reshape(-1, 60 * 11)\n",
    "bond = bond_data.reshape(-1, 60*60*4)\n",
    "distance = distance_data.reshape(-1, 60*60*7)\n",
    "\n",
    "seed = 17\n",
    "X_train, X_left, y_train, y_left = train_test_split(X, y, test_size=0.2, random_state=seed)\n",
    "X_test, X_valid, y_test, y_valid = train_test_split(X_left, y_left, test_size=0.5, random_state=seed)"
   ]
  },
  {
   "cell_type": "markdown",
   "metadata": {},
   "source": [
    "## Define utility functions"
   ]
  },
  {
   "cell_type": "code",
   "execution_count": 15,
   "metadata": {
    "collapsed": true
   },
   "outputs": [],
   "source": [
    "def evaluate(estimator):\n",
    "    estimator.fit(X_train, y_train)\n",
    "    score = np.sqrt(mean_squared_error(y_valid, estimator.predict(X_valid)))\n",
    "    return score"
   ]
  },
  {
   "cell_type": "markdown",
   "metadata": {},
   "source": [
    "## Random Forests"
   ]
  },
  {
   "cell_type": "code",
   "execution_count": 38,
   "metadata": {
    "collapsed": true
   },
   "outputs": [],
   "source": [
    "rf = RandomForestRegressor(n_estimators=500, n_jobs=-1)"
   ]
  },
  {
   "cell_type": "code",
   "execution_count": 39,
   "metadata": {
    "scrolled": true
   },
   "outputs": [
    {
     "data": {
      "text/plain": [
       "1.1305477747090538"
      ]
     },
     "execution_count": 39,
     "metadata": {},
     "output_type": "execute_result"
    }
   ],
   "source": [
    "evaluate(rf)"
   ]
  },
  {
   "cell_type": "code",
   "execution_count": 40,
   "metadata": {},
   "outputs": [
    {
     "data": {
      "text/plain": [
       "1.131833552541309"
      ]
     },
     "execution_count": 40,
     "metadata": {},
     "output_type": "execute_result"
    }
   ],
   "source": [
    "rf.fit(X_train, y_train)\n",
    "np.sqrt(mean_squared_error(rf.predict(X_test), y_test))"
   ]
  },
  {
   "cell_type": "markdown",
   "metadata": {},
   "source": [
    "**Random Forests generates good results (comparable to the paper).**"
   ]
  },
  {
   "cell_type": "markdown",
   "metadata": {},
   "source": [
    "## Gradient boosted trees"
   ]
  },
  {
   "cell_type": "code",
   "execution_count": 49,
   "metadata": {
    "collapsed": true
   },
   "outputs": [],
   "source": [
    "gbr = GradientBoostingRegressor()"
   ]
  },
  {
   "cell_type": "markdown",
   "metadata": {},
   "source": [
    "### Hyperparameter tuning with Bayesian optimization (PyGPGO)"
   ]
  },
  {
   "cell_type": "code",
   "execution_count": 52,
   "metadata": {
    "collapsed": true
   },
   "outputs": [],
   "source": [
    "gbr_params = {'learning_rate':      ('cont', (-5, 0)),\n",
    "          'n_estimators':  ('int', (50, 500))\n",
    "         }\n",
    "\n",
    "def eval_gbr(learning_rate, n_estimators):\n",
    "    clf = gbr.set_params(learning_rate=10**learning_rate, n_estimators=int(n_estimators))\n",
    "    return -evaluate(clf)"
   ]
  },
  {
   "cell_type": "code",
   "execution_count": 75,
   "metadata": {
    "scrolled": false
   },
   "outputs": [
    {
     "name": "stdout",
     "output_type": "stream",
     "text": [
      "Evaluation \t Proposed point \t  Current eval. \t Best eval.\n",
      "init   \t [  -1.02681309  302.        ]. \t  -1.0908760712665024 \t -1.026299074007503\n",
      "init   \t [  -3.60575981  419.        ]. \t  -2.041498380266327 \t -1.026299074007503\n",
      "init   \t [  -0.66670846  268.        ]. \t  -1.026299074007503 \t -1.026299074007503\n",
      "1      \t [  -4.11347466  151.        ]. \t  -2.11711373856 \t -1.02629907401\n",
      "2      \t [ -1.50643605  89.        ]. \t  -1.33186075757 \t -1.02629907401\n",
      "3      \t [  -4.63719516  109.        ]. \t  -2.12503292718 \t -1.02629907401\n",
      "4      \t [  -0.27342495  185.        ]. \t  -1.12679593675 \t -1.02629907401\n",
      "5      \t [  -1.53887498  464.        ]. \t  -1.10205415249 \t -1.02629907401\n",
      "6      \t [  -0.39078356  123.        ]. \t  -1.17337506687 \t -1.02629907401\n",
      "7      \t [  -1.32036332  254.        ]. \t  -1.10215555834 \t -1.02629907401\n",
      "8      \t [  -1.21520679  314.        ]. \t  -1.084931977 \t -1.02629907401\n",
      "9      \t [ -1.55931289e-01   4.84000000e+02]. \t  -1.20932947087 \t -1.02629907401\n",
      "10     \t [  -4.24078676  244.        ]. \t  -2.11505901172 \t -1.02629907401\n",
      "11     \t [  -1.65768908  409.        ]. \t  -1.14235867158 \t -1.02629907401\n",
      "12     \t [  -2.20007075  195.        ]. \t  -1.52081672157 \t -1.02629907401\n",
      "13     \t [  -3.23361726  212.        ]. \t  -2.02591544935 \t -1.02629907401\n",
      "14     \t [  -4.94531676  235.        ]. \t  -2.12489982255 \t -1.02629907401\n",
      "15     \t [  -0.36211435  348.        ]. \t  -1.1424044951 \t -1.02629907401\n",
      "16     \t [ -2.26861585  98.        ]. \t  -1.75955738687 \t -1.02629907401\n",
      "17     \t [  -4.31484158  380.        ]. \t  -2.1113015411 \t -1.02629907401\n",
      "18     \t [  -1.72873375  436.        ]. \t  -1.15132597631 \t -1.02629907401\n",
      "19     \t [  -0.29608736  134.        ]. \t  -1.09909045842 \t -1.02629907401\n",
      "20     \t [ -4.04521749  70.        ]. \t  -2.12172164962 \t -1.02629907401\n",
      "21     \t [ -4.17733614e-01   4.48000000e+02]. \t  -1.15378314806 \t -1.02629907401\n",
      "22     \t [  -2.12096375  221.        ]. \t  -1.43765548153 \t -1.02629907401\n",
      "23     \t [  -3.51131218  291.        ]. \t  -2.05256549357 \t -1.02629907401\n",
      "24     \t [  -3.73688007  495.        ]. \t  -2.05173915077 \t -1.02629907401\n",
      "25     \t [  -4.48040108  397.        ]. \t  -2.11581696473 \t -1.02629907401\n",
      "26     \t [  -3.72328884  279.        ]. \t  -2.08219892985 \t -1.02629907401\n",
      "27     \t [  -1.68073078  169.        ]. \t  -1.2908114107 \t -1.02629907401\n",
      "28     \t [  -4.34124226  337.        ]. \t  -2.11390536168 \t -1.02629907401\n",
      "29     \t [ -2.13763631  57.        ]. \t  -1.82348985727 \t -1.02629907401\n",
      "30     \t [  -1.51395404  363.        ]. \t  -1.12184793795 \t -1.02629907401\n",
      "31     \t [ -4.65111983e-01   4.74000000e+02]. \t  -1.15362608151 \t -1.02629907401\n",
      "32     \t [ -0.44461245  79.        ]. \t  -1.16730875699 \t -1.02629907401\n",
      "33     \t [  -0.38956868  329.        ]. \t  -1.13343209377 \t -1.02629907401\n",
      "34     \t [  -4.0623928  456.       ]. \t  -2.09331282166 \t -1.02629907401\n",
      "35     \t [  -2.48794904  428.        ]. \t  -1.49070273557 \t -1.02629907401\n",
      "36     \t [  -4.17501266  160.        ]. \t  -2.11792050394 \t -1.02629907401\n",
      "37     \t [  -0.22291358  143.        ]. \t  -1.20325585818 \t -1.02629907401\n",
      "38     \t [  -4.97550422  371.        ]. \t  -2.12379843663 \t -1.02629907401\n",
      "39     \t [  -2.90415392  388.        ]. \t  -1.78339973415 \t -1.02629907401\n",
      "40     \t [  -3.60073531  321.        ]. \t  -2.05974864361 \t -1.02629907401\n"
     ]
    }
   ],
   "source": [
    "from pyGPGO.surrogates.GaussianProcess import GaussianProcess\n",
    "from pyGPGO.covfunc import squaredExponential\n",
    "from pyGPGO.acquisition import Acquisition\n",
    "from pyGPGO.GPGO import GPGO\n",
    "sexp = squaredExponential()\n",
    "gp = GaussianProcess(sexp)\n",
    "acq = Acquisition(mode = 'ExpectedImprovement')\n",
    "gpgo_gbr = GPGO(gp, acq, eval_gbr, gbr_params, n_jobs=-1)\n",
    "gpgo_gbr.run(max_iter = 40)"
   ]
  },
  {
   "cell_type": "code",
   "execution_count": 76,
   "metadata": {},
   "outputs": [
    {
     "data": {
      "text/plain": [
       "OrderedDict([('learning_rate', -0.66670845832218362), ('n_estimators', 268.0)])"
      ]
     },
     "execution_count": 76,
     "metadata": {},
     "output_type": "execute_result"
    }
   ],
   "source": [
    "gbr_opt = gpgo_gbr.getResult()[0]\n",
    "gbr_opt"
   ]
  },
  {
   "cell_type": "code",
   "execution_count": 79,
   "metadata": {
    "collapsed": true
   },
   "outputs": [],
   "source": [
    "gbr_o = gbr.set_params(learning_rate=10**gbr_opt['learning_rate'],\n",
    "                         n_estimators=int(gbr_opt['n_estimators']))"
   ]
  },
  {
   "cell_type": "code",
   "execution_count": 80,
   "metadata": {},
   "outputs": [
    {
     "data": {
      "text/plain": [
       "1.0223616121352406"
      ]
     },
     "execution_count": 80,
     "metadata": {},
     "output_type": "execute_result"
    }
   ],
   "source": [
    "evaluate(gbr_o)"
   ]
  },
  {
   "cell_type": "code",
   "execution_count": 82,
   "metadata": {},
   "outputs": [
    {
     "data": {
      "text/plain": [
       "GradientBoostingRegressor(alpha=0.9, criterion='friedman_mse', init=None,\n",
       "             learning_rate=0.21542273812490345, loss='ls', max_depth=3,\n",
       "             max_features=None, max_leaf_nodes=None,\n",
       "             min_impurity_decrease=0.0, min_impurity_split=None,\n",
       "             min_samples_leaf=1, min_samples_split=2,\n",
       "             min_weight_fraction_leaf=0.0, n_estimators=268,\n",
       "             presort='auto', random_state=None, subsample=1.0, verbose=0,\n",
       "             warm_start=False)"
      ]
     },
     "execution_count": 82,
     "metadata": {},
     "output_type": "execute_result"
    }
   ],
   "source": [
    "gbr_o.fit(X_train, y_train)"
   ]
  },
  {
   "cell_type": "code",
   "execution_count": 83,
   "metadata": {},
   "outputs": [
    {
     "data": {
      "text/plain": [
       "0.97811370644900064"
      ]
     },
     "execution_count": 83,
     "metadata": {},
     "output_type": "execute_result"
    }
   ],
   "source": [
    "np.sqrt(mean_squared_error(y_test, gbr_o.predict(X_test)))"
   ]
  },
  {
   "cell_type": "code",
   "execution_count": 84,
   "metadata": {},
   "outputs": [
    {
     "data": {
      "image/png": "[encoded data removed]",
      "text/plain": [
       "<matplotlib.figure.Figure at 0x7fa70db01588>"
      ]
     },
     "metadata": {},
     "output_type": "display_data"
    }
   ],
   "source": [
    "plt.figure(figsize=(4,3))\n",
    "plt.scatter(y_test, gbr_o.predict(X_test), alpha=0.7, c='green')\n",
    "plt.plot([-10, 2], [-10, 2], c='grey', ls='--', lw=3)\n",
    "plt.xlim([-10, 2])\n",
    "plt.ylim([-10, 2])\n",
    "sns.despine()"
   ]
  },
  {
   "cell_type": "markdown",
   "metadata": {},
   "source": [
    "## XGBoost"
   ]
  },
  {
   "cell_type": "code",
   "execution_count": 11,
   "metadata": {
    "collapsed": true
   },
   "outputs": [],
   "source": [
    "xgb = XGBRegressor(seed = 0, learning_rate = 0.1, max_depth=4, n_estimators = 600, n_jobs=-1)"
   ]
  },
  {
   "cell_type": "code",
   "execution_count": 55,
   "metadata": {},
   "outputs": [
    {
     "name": "stdout",
     "output_type": "stream",
     "text": [
      "Evaluation \t Proposed point \t  Current eval. \t Best eval.\n",
      "init   \t [  -1.45617814  489.            5.        ]. \t  -0.9636968869137 \t -0.9636968869137\n",
      "init   \t [  -2.72667081  411.            7.        ]. \t  -2.172088637809196 \t -0.9636968869137\n",
      "init   \t [  -1.94313329  380.            6.        ]. \t  -1.0234925644851565 \t -0.9636968869137\n",
      "1      \t [  -0.80991781  104.            4.        ]. \t  -1.00460013391 \t -0.963696886914\n",
      "2      \t [  -3.20000897  115.            7.        ]. \t  -3.85437350826 \t -0.963696886914\n",
      "3      \t [ -3.64275463e-01   4.33000000e+02   6.00000000e+00]. \t  -1.08190055175 \t -0.963696886914\n",
      "4      \t [ -0.59743227  62.           4.        ]. \t  -1.02680198763 \t -0.963696886914\n",
      "5      \t [ -8.54486523e-02   1.61000000e+02   5.00000000e+00]. \t  -1.17484200547 \t -0.963696886914\n",
      "6      \t [  -3.1784457  261.           3.       ]. \t  -3.54298891539 \t -0.963696886914\n",
      "7      \t [  -0.91747698  244.            4.        ]. \t  -0.986479764345 \t -0.963696886914\n",
      "8      \t [  -0.34353419  210.            4.        ]. \t  -1.01239200076 \t -0.963696886914\n",
      "9      \t [ -7.17059319e-02   3.44000000e+02   5.00000000e+00]. \t  -1.21479461342 \t -0.963696886914\n",
      "10     \t [  -4.55986382  169.            2.        ]. \t  -4.09214761822 \t -0.963696886914\n",
      "11     \t [  -1.89717422  188.            3.        ]. \t  -1.35281152326 \t -0.963696886914\n",
      "12     \t [  -1.41754141  330.            7.        ]. \t  -0.966821628931 \t -0.963696886914\n",
      "13     \t [  -4.61017846  296.            9.        ]. \t  -4.08213692797 \t -0.963696886914\n",
      "14     \t [  -2.55677273  475.            2.        ]. \t  -1.81276258234 \t -0.963696886914\n",
      "15     \t [  -0.89383879  390.            9.        ]. \t  -1.01626591339 \t -0.963696886914\n",
      "16     \t [  -4.96045966  219.            3.        ]. \t  -4.09997055679 \t -0.963696886914\n",
      "17     \t [ -1.77138129e-02   5.30000000e+01   7.00000000e+00]. \t  -1.37426844956 \t -0.963696886914\n",
      "18     \t [  -3.75373966  232.            2.        ]. \t  -3.96682649841 \t -0.963696886914\n",
      "19     \t [  -4.99507974  370.            8.        ]. \t  -4.09494265589 \t -0.963696886914\n",
      "20     \t [ -1.4526454  77.          5.       ]. \t  -1.13617697813 \t -0.963696886914\n",
      "21     \t [  -2.49990177  281.            6.        ]. \t  -2.0224115897 \t -0.963696886914\n",
      "22     \t [  -4.32212737  314.            2.        ]. \t  -4.05599708813 \t -0.963696886914\n",
      "23     \t [  -0.3758558  125.           2.       ]. \t  -1.07045324303 \t -0.963696886914\n",
      "24     \t [  -3.65430228  499.            2.        ]. \t  -3.74073589433 \t -0.963696886914\n",
      "25     \t [  -2.8855571  153.           7.       ]. \t  -3.46205533926 \t -0.963696886914\n",
      "26     \t [  -2.78595334  199.            6.        ]. \t  -3.11437472465 \t -0.963696886914\n",
      "27     \t [  -1.36628585  305.            9.        ]. \t  -0.981975858436 \t -0.963696886914\n",
      "28     \t [  -0.93605918  420.            2.        ]. \t  -1.08011286859 \t -0.963696886914\n",
      "29     \t [  -1.88375459  179.            6.        ]. \t  -1.16669384916 \t -0.963696886914\n",
      "30     \t [  -2.10920987  466.            4.        ]. \t  -1.16085345897 \t -0.963696886914\n",
      "31     \t [ -3.10797656  89.           6.        ]. \t  -3.86743239045 \t -0.963696886914\n",
      "32     \t [  -4.65640912  269.            7.        ]. \t  -4.08714053411 \t -0.963696886914\n",
      "33     \t [  -0.6382905  443.           4.       ]. \t  \u001b[92m-0.953140662032\u001b[0m \t -0.953140662032\n",
      "34     \t [  -4.23476691  359.            9.        ]. \t  -4.03303200349 \t -0.953140662032\n",
      "35     \t [  -1.78545607  451.            9.        ]. \t  -0.9940802328 \t -0.953140662032\n",
      "36     \t [  -0.39333417  136.            3.        ]. \t  -1.09625951948 \t -0.953140662032\n",
      "37     \t [ -4.21453626e-01   4.56000000e+02   2.00000000e+00]. \t  -1.02818358102 \t -0.953140662032\n",
      "38     \t [ -2.04681340e-01   4.02000000e+02   3.00000000e+00]. \t  -1.09121570577 \t -0.953140662032\n",
      "39     \t [  -1.41988504  145.            2.        ]. \t  -1.33148047771 \t -0.953140662032\n",
      "40     \t [  -4.91131803  352.            3.        ]. \t  -4.09305882591 \t -0.953140662032\n"
     ]
    }
   ],
   "source": [
    "def eval_xgb(learning_rate, n_estimators, max_depth):\n",
    "    clf = xgb.set_params(learning_rate=10**learning_rate, n_estimators=int(n_estimators), max_depth=int(max_depth))\n",
    "    return -evaluate(clf)\n",
    "\n",
    "xgb_params = {'learning_rate':      ('cont', (-5, 0)),\n",
    "              'n_estimators':  ('int', (50, 500)),\n",
    "              'max_depth': ('int', (2, 10))\n",
    "         }\n",
    "\n",
    "sexp = squaredExponential()\n",
    "gp = GaussianProcess(sexp)\n",
    "acq = Acquisition(mode = 'ExpectedImprovement')\n",
    "gpgo_xgb = GPGO(gp, acq, eval_xgb, xgb_params, n_jobs=-1)\n",
    "gpgo_xgb.run(max_iter = 40)"
   ]
  },
  {
   "cell_type": "markdown",
   "metadata": {},
   "source": [
    "### Use best parameters for xgboost"
   ]
  },
  {
   "cell_type": "code",
   "execution_count": 56,
   "metadata": {},
   "outputs": [
    {
     "data": {
      "text/plain": [
       "OrderedDict([('learning_rate', -0.63829050057870695),\n",
       "             ('n_estimators', 443.0),\n",
       "             ('max_depth', 4.0)])"
      ]
     },
     "execution_count": 56,
     "metadata": {},
     "output_type": "execute_result"
    }
   ],
   "source": [
    "xgb_opt = gpgo_xgb.getResult()[0]\n",
    "xgb_opt"
   ]
  },
  {
   "cell_type": "code",
   "execution_count": 57,
   "metadata": {
    "collapsed": true
   },
   "outputs": [],
   "source": [
    "xgb_o = xgb.set_params(learning_rate=10**xgb_opt['learning_rate'],\n",
    "                         n_estimators=int(xgb_opt['n_estimators']),\n",
    "                         max_depth=int(xgb_opt['max_depth']))"
   ]
  },
  {
   "cell_type": "code",
   "execution_count": 58,
   "metadata": {},
   "outputs": [
    {
     "data": {
      "text/plain": [
       "0.95314066203212888"
      ]
     },
     "execution_count": 58,
     "metadata": {},
     "output_type": "execute_result"
    }
   ],
   "source": [
    "evaluate(xgb_o)"
   ]
  },
  {
   "cell_type": "code",
   "execution_count": 59,
   "metadata": {},
   "outputs": [
    {
     "data": {
      "text/plain": [
       "XGBRegressor(base_score=0.5, booster='gbtree', colsample_bylevel=1,\n",
       "       colsample_bytree=1, gamma=0, learning_rate=0.22999028924314502,\n",
       "       max_delta_step=0, max_depth=4, min_child_weight=1, missing=None,\n",
       "       n_estimators=443, n_jobs=-1, nthread=None, objective='reg:linear',\n",
       "       random_state=0, reg_alpha=0, reg_lambda=1, scale_pos_weight=1,\n",
       "       seed=0, silent=True, subsample=1)"
      ]
     },
     "execution_count": 59,
     "metadata": {},
     "output_type": "execute_result"
    }
   ],
   "source": [
    "xgb_o.fit(X_train, y_train)"
   ]
  },
  {
   "cell_type": "code",
   "execution_count": 60,
   "metadata": {},
   "outputs": [
    {
     "data": {
      "text/plain": [
       "0.93337742223970421"
      ]
     },
     "execution_count": 60,
     "metadata": {},
     "output_type": "execute_result"
    }
   ],
   "source": [
    "np.sqrt(mean_squared_error(y_test, xgb_o.predict(X_test)))"
   ]
  },
  {
   "cell_type": "code",
   "execution_count": 61,
   "metadata": {},
   "outputs": [
    {
     "data": {
      "image/png": "[encoded data removed]",
      "text/plain": [
       "<matplotlib.figure.Figure at 0x7fa7246a83c8>"
      ]
     },
     "metadata": {},
     "output_type": "display_data"
    }
   ],
   "source": [
    "plt.figure(figsize=(4,3))\n",
    "plt.scatter(y_test, xgb_o.predict(X_test), alpha=0.7, c='green')\n",
    "plt.plot([-10, 2], [-10, 2], c='grey', ls='--', lw=3)\n",
    "plt.xlim([-10, 2])\n",
    "plt.ylim([-10, 2])\n",
    "sns.despine()"
   ]
  },
  {
   "cell_type": "markdown",
   "metadata": {},
   "source": [
    "## Lightgbm"
   ]
  },
  {
   "cell_type": "code",
   "execution_count": 62,
   "metadata": {},
   "outputs": [
    {
     "name": "stdout",
     "output_type": "stream",
     "text": [
      "Evaluation \t Proposed point \t  Current eval. \t Best eval.\n",
      "init   \t [ -3.99823943e+00   2.43200000e+03   2.00000000e+00]. \t  -1.9519670145303065 \t -1.025275901191006\n",
      "init   \t [   -2.49465089  1710.             4.        ]. \t  -1.1322014361148527 \t -1.025275901191006\n",
      "init   \t [  -1.07968252  816.            3.        ]. \t  -1.025275901191006 \t -1.025275901191006\n",
      "1      \t [ -3.78237999e+00   2.16500000e+03   2.00000000e+00]. \t  -1.88506728928 \t -1.02527590119\n",
      "2      \t [   -2.20770102  1487.             9.        ]. \t  \u001b[92m-0.941338055695\u001b[0m \t -0.941338055695\n",
      "3      \t [   -4.29659846  2992.             7.        ]. \t  -1.95267245495 \t -0.941338055695\n",
      "4      \t [   -3.41299008  1048.             8.        ]. \t  -1.72739050002 \t -0.941338055695\n",
      "5      \t [   -3.87313904  2013.             3.        ]. \t  -1.91615485527 \t -0.941338055695\n",
      "6      \t [   -4.63535899  2046.             4.        ]. \t  -2.08139520785 \t -0.941338055695\n",
      "7      \t [   -4.66937385  1272.             8.        ]. \t  -2.09251764707 \t -0.941338055695\n",
      "8      \t [ -2.07728638e-01   7.26000000e+02   9.00000000e+00]. \t  -1.07667468205 \t -0.941338055695\n",
      "9      \t [   -4.37851709  2865.             4.        ]. \t  -2.01847153868 \t -0.941338055695\n",
      "10     \t [ -2.88790946e-01   2.63200000e+03   2.00000000e+00]. \t  -1.07172096274 \t -0.941338055695\n",
      "11     \t [   -4.53221055  2284.             3.        ]. \t  -2.06844040964 \t -0.941338055695\n",
      "12     \t [  -2.36305809  689.            8.        ]. \t  -1.07233142854 \t -0.941338055695\n",
      "13     \t [ -8.06756898e-01   1.32600000e+03   4.00000000e+00]. \t  -0.966211693915 \t -0.941338055695\n",
      "14     \t [   -3.32589813  2747.             8.        ]. \t  -1.30043431843 \t -0.941338055695\n",
      "15     \t [ -1.19980119e+00   2.69600000e+03   7.00000000e+00]. \t  \u001b[92m-0.921576421315\u001b[0m \t -0.921576421315\n",
      "16     \t [   -4.42865047  1471.             3.        ]. \t  -2.07868597043 \t -0.921576421315\n",
      "17     \t [   -1.72825455  1076.             6.        ]. \t  -0.982847617879 \t -0.921576421315\n",
      "18     \t [ -2.57985281e-01   5.18000000e+02   9.00000000e+00]. \t  -1.02750096926 \t -0.921576421315\n",
      "19     \t [   -2.81454466  1781.             7.        ]. \t  -1.11050237364 \t -0.921576421315\n",
      "20     \t [ -7.46311974e-01   2.92700000e+03   9.00000000e+00]. \t  -0.965399373539 \t -0.921576421315\n",
      "21     \t [ -1.02082945e+00   1.75200000e+03   5.00000000e+00]. \t  -0.94939347136 \t -0.921576421315\n",
      "22     \t [ -1.01049887e+00   1.73800000e+03   3.00000000e+00]. \t  -0.969876519436 \t -0.921576421315\n",
      "23     \t [  -2.80031047  614.            7.        ]. \t  -1.42393605377 \t -0.921576421315\n",
      "24     \t [  -1.70841542  923.            8.        ]. \t  \u001b[92m-0.903521744916\u001b[0m \t -0.903521744916\n",
      "25     \t [   -4.24650652  1723.             3.        ]. \t  -2.04372699996 \t -0.903521744916\n",
      "26     \t [   -2.86115891  2110.             4.        ]. \t  -1.24080537889 \t -0.903521744916\n",
      "27     \t [ -1.22674904e+00   2.15700000e+03   5.00000000e+00]. \t  -0.944600079137 \t -0.903521744916\n",
      "28     \t [   -2.35841932  1377.             5.        ]. \t  -1.04701917419 \t -0.903521744916\n",
      "29     \t [   -3.140757  2185.           4.      ]. \t  -1.38392379197 \t -0.903521744916\n",
      "30     \t [ -1.20572105e+00   1.93400000e+03   7.00000000e+00]. \t  -0.929579886866 \t -0.903521744916\n",
      "31     \t [   -3.50648472  2072.             5.        ]. \t  -1.61039615298 \t -0.903521744916\n",
      "32     \t [   -3.52130564  1853.             2.        ]. \t  -1.78968942857 \t -0.903521744916\n",
      "33     \t [ -1.74449037e+00   2.94100000e+03   9.00000000e+00]. \t  \u001b[92m-0.890711740484\u001b[0m \t -0.890711740484\n",
      "34     \t [   -4.03659917  2025.             3.        ]. \t  -1.97622513371 \t -0.890711740484\n",
      "35     \t [ -6.04523924e-01   1.82700000e+03   5.00000000e+00]. \t  -0.976065951152 \t -0.890711740484\n",
      "36     \t [   -3.20078738  1393.             7.        ]. \t  -1.46703140562 \t -0.890711740484\n",
      "37     \t [   -4.87921449  1791.             7.        ]. \t  -2.09748727246 \t -0.890711740484\n",
      "38     \t [ -1.54855385e-01   9.55000000e+02   7.00000000e+00]. \t  -1.08787369757 \t -0.890711740484\n",
      "39     \t [   -3.33247306  1295.             5.        ]. \t  -1.6368392414 \t -0.890711740484\n",
      "40     \t [   -1.53170258  1351.             8.        ]. \t  -0.891284738831 \t -0.890711740484\n"
     ]
    }
   ],
   "source": [
    "def eval_lgb(learning_rate, n_estimators, max_depth):\n",
    "    clf = LGBMRegressor(learning_rate=10**learning_rate, n_estimators=int(n_estimators), max_depth=int(max_depth), n_jobs=-1)\n",
    "    return -evaluate(clf)\n",
    "\n",
    "lgb_params = {'learning_rate':      ('cont', (-5, 0)),\n",
    "              'n_estimators':  ('int', (500, 3000)),\n",
    "              'max_depth': ('int', (2, 10))\n",
    "         }\n",
    "\n",
    "sexp = squaredExponential()\n",
    "gp = GaussianProcess(sexp)\n",
    "acq = Acquisition(mode = 'ExpectedImprovement')\n",
    "gpgo_lgb = GPGO(gp, acq, eval_lgb, lgb_params, n_jobs=4)\n",
    "gpgo_lgb.run(max_iter = 40)"
   ]
  },
  {
   "cell_type": "code",
   "execution_count": 64,
   "metadata": {},
   "outputs": [
    {
     "data": {
      "text/plain": [
       "OrderedDict([('learning_rate', -1.7444903727855503),\n",
       "             ('n_estimators', 2941.0),\n",
       "             ('max_depth', 9.0)])"
      ]
     },
     "execution_count": 64,
     "metadata": {},
     "output_type": "execute_result"
    }
   ],
   "source": [
    "lgb_opt = gpgo_lgb.getResult()[0]\n",
    "lgb_opt"
   ]
  },
  {
   "cell_type": "code",
   "execution_count": 65,
   "metadata": {},
   "outputs": [
    {
     "data": {
      "text/plain": [
       "LGBMRegressor(boosting_type='gbdt', colsample_bytree=1.0,\n",
       "       learning_rate=0.018009830572561902, max_bin=255, max_depth=9,\n",
       "       min_child_samples=10, min_child_weight=5, min_split_gain=0.0,\n",
       "       n_estimators=2941, n_jobs=-1, num_leaves=31, objective=None,\n",
       "       random_state=0, reg_alpha=0.0, reg_lambda=0.0, silent=True,\n",
       "       subsample=1.0, subsample_for_bin=50000, subsample_freq=1)"
      ]
     },
     "execution_count": 65,
     "metadata": {},
     "output_type": "execute_result"
    }
   ],
   "source": [
    "lgb = LGBMRegressor(n_estimators=int(lgb_opt['n_estimators']), \n",
    "                   n_jobs=-1, \n",
    "                   learning_rate=10**lgb_opt['learning_rate'],\n",
    "                   max_depth=int(lgb_opt['max_depth']))\n",
    "lgb"
   ]
  },
  {
   "cell_type": "code",
   "execution_count": 66,
   "metadata": {},
   "outputs": [
    {
     "data": {
      "text/plain": [
       "0.89071174048446022"
      ]
     },
     "execution_count": 66,
     "metadata": {},
     "output_type": "execute_result"
    }
   ],
   "source": [
    "evaluate(lgb)"
   ]
  },
  {
   "cell_type": "code",
   "execution_count": 67,
   "metadata": {
    "scrolled": true
   },
   "outputs": [
    {
     "data": {
      "text/plain": [
       "0.91946261588767153"
      ]
     },
     "execution_count": 67,
     "metadata": {},
     "output_type": "execute_result"
    }
   ],
   "source": [
    "lgb.fit(X_train, y_train)\n",
    "np.sqrt(mean_squared_error(y_test, lgb.predict(X_test)))"
   ]
  },
  {
   "cell_type": "code",
   "execution_count": 68,
   "metadata": {},
   "outputs": [
    {
     "data": {
      "image/png": "[encoded data removed]",
      "text/plain": [
       "<matplotlib.figure.Figure at 0x7fa724937358>"
      ]
     },
     "metadata": {},
     "output_type": "display_data"
    }
   ],
   "source": [
    "plt.figure(figsize=(4,3))\n",
    "plt.scatter(y_test, lgb.predict(X_test), alpha=0.7, c='green')\n",
    "plt.plot([-10, 2], [-10, 2], c='grey', ls='--', lw=3)\n",
    "plt.xlim([-10, 2])\n",
    "plt.ylim([-10, 2])\n",
    "sns.despine()"
   ]
  },
  {
   "cell_type": "markdown",
   "metadata": {},
   "source": [
    "## Model improvement by stacking"
   ]
  },
  {
   "cell_type": "code",
   "execution_count": 69,
   "metadata": {
    "collapsed": true
   },
   "outputs": [],
   "source": [
    "from mlxtend.regressor import StackingCVRegressor\n",
    "stack = StackingCVRegressor([xgb_o, lgb], LassoCV())"
   ]
  },
  {
   "cell_type": "code",
   "execution_count": 70,
   "metadata": {},
   "outputs": [
    {
     "data": {
      "text/plain": [
       "0.8845544151164505"
      ]
     },
     "execution_count": 70,
     "metadata": {},
     "output_type": "execute_result"
    }
   ],
   "source": [
    "evaluate(stack)"
   ]
  },
  {
   "cell_type": "code",
   "execution_count": 71,
   "metadata": {},
   "outputs": [
    {
     "data": {
      "text/plain": [
       "0.88719970645643875"
      ]
     },
     "execution_count": 71,
     "metadata": {},
     "output_type": "execute_result"
    }
   ],
   "source": [
    "stack.fit(X_train, y_train)\n",
    "np.sqrt(mean_squared_error(y_test, stack.predict(X_test)))"
   ]
  },
  {
   "cell_type": "markdown",
   "metadata": {},
   "source": [
    "Stacking achieves decent reduction in test RMSE. However, in order for stacking to work well, the base models should\n",
    "1. have similar performance\n",
    "2. be explore different characteristics of the features. \n",
    "\n",
    "Here LightGBM and XGBoost have the best performance. Thus they are selected as the base models. Although random forests explores different charasteristics of the features from them, performance of random forests not comparable to them. Therefore including random forests as the base model does not help as much.|"
   ]
  },
  {
   "cell_type": "code",
   "execution_count": 41,
   "metadata": {
    "collapsed": true
   },
   "outputs": [],
   "source": [
    "stack2 = StackingCVRegressor([xgb_o, lgb, rf], LassoCV())"
   ]
  },
  {
   "cell_type": "code",
   "execution_count": 42,
   "metadata": {},
   "outputs": [
    {
     "data": {
      "text/plain": [
       "0.92132893378679681"
      ]
     },
     "execution_count": 42,
     "metadata": {},
     "output_type": "execute_result"
    }
   ],
   "source": [
    "evaluate(stack2)"
   ]
  },
  {
   "cell_type": "code",
   "execution_count": 43,
   "metadata": {},
   "outputs": [
    {
     "data": {
      "text/plain": [
       "0.91008991163808473"
      ]
     },
     "execution_count": 43,
     "metadata": {},
     "output_type": "execute_result"
    }
   ],
   "source": [
    "stack2.fit(X_train, y_train)\n",
    "np.sqrt(mean_squared_error(y_test, stack2.predict(X_test)))"
   ]
  }
 ],
 "metadata": {
  "kernelspec": {
   "display_name": "Python 3",
   "language": "python",
   "name": "python3"
  },
  "language_info": {
   "codemirror_mode": {
    "name": "ipython",
    "version": 3
   },
   "file_extension": ".py",
   "mimetype": "text/x-python",
   "name": "python",
   "nbconvert_exporter": "python",
   "pygments_lexer": "ipython3",
   "version": "3.6.3"
  },
  "toc": {
   "nav_menu": {},
   "number_sections": true,
   "sideBar": true,
   "skip_h1_title": false,
   "toc_cell": false,
   "toc_position": {},
   "toc_section_display": "block",
   "toc_window_display": false
  }
 },
 "nbformat": 4,
 "nbformat_minor": 2
}
